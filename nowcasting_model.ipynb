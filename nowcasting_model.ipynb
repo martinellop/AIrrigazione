{
 "cells": [
  {
   "cell_type": "code",
   "execution_count": 4,
   "metadata": {},
   "outputs": [],
   "source": [
    "import numpy as np\n",
    "from matplotlib import pyplot as plt\n",
    "from torchvision import transforms\n",
    "from torch.utils.data import DataLoader\n",
    "from torch.utils.data import Dataset\n",
    "\n",
    "\n",
    "\n",
    "\n",
    "class skyDataset(Dataset):\n",
    "  def __init__(self, X: np.ndarray, y: np.ndarray):\n",
    "    self.imageWidth = 416\n",
    "    self.imageHeight = 416\n",
    "\n",
    "    self.X = np.reshape(X, (X.shape[0], self.imageWidth, self.imageHeight))\n",
    "    self.y = y.astype(np.long)\n",
    "    \n",
    "    self.preprocessing = transforms.Compose([\n",
    "      transforms.ToTensor(), # first, convert image to PyTorch tensor\n",
    "\n",
    "      #toDO:normalize inputs --pit\n",
    "      #transforms.Normalize((0.1307,), (0.3081,)) # normalize inputs\n",
    "    ])\n",
    "    \n",
    "  def __len__(self):\n",
    "    return self.X.shape[0]\n",
    "  \n",
    "  def __getitem__(self, item: int):\n",
    "    Xcurr, ycurr = self.X[item], self.y[item]\n",
    "    Xcurr = self.preprocessing(Xcurr)\n",
    "    return Xcurr, ycurr"
   ]
  },
  {
   "cell_type": "code",
   "execution_count": null,
   "metadata": {},
   "outputs": [],
   "source": []
  }
 ],
 "metadata": {
  "interpreter": {
   "hash": "ad2bdc8ecc057115af97d19610ffacc2b4e99fae6737bb82f5d7fb13d2f2c186"
  },
  "kernelspec": {
   "display_name": "Python 3.8.8 ('base')",
   "language": "python",
   "name": "python3"
  },
  "language_info": {
   "codemirror_mode": {
    "name": "ipython",
    "version": 3
   },
   "file_extension": ".py",
   "mimetype": "text/x-python",
   "name": "python",
   "nbconvert_exporter": "python",
   "pygments_lexer": "ipython3",
   "version": "3.8.8"
  },
  "orig_nbformat": 4
 },
 "nbformat": 4,
 "nbformat_minor": 2
}
