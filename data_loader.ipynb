{
 "cells": [
  {
   "cell_type": "code",
   "execution_count": 4,
   "metadata": {},
   "outputs": [],
   "source": [
    "#TODO: Add code to download folder with our images.\n",
    "#At the end, we want to find in tmp/ all downloaded pictures."
   ]
  },
  {
   "cell_type": "code",
   "execution_count": null,
   "metadata": {},
   "outputs": [],
   "source": [
    "pip install -U albumentations"
   ]
  },
  {
   "cell_type": "code",
   "execution_count": 2,
   "metadata": {},
   "outputs": [],
   "source": [
    "import albumentations as A\n",
    "import cv2\n",
    "import shutil\n",
    "import os\n",
    "import numpy as np\n",
    "import argparse"
   ]
  },
  {
   "cell_type": "code",
   "execution_count": 4,
   "metadata": {},
   "outputs": [],
   "source": [
    "def get_files_from_folder(path):\n",
    "\n",
    "    files = os.listdir(path)\n",
    "    return np.asarray(files)\n",
    "\n",
    "def split_dataset(path_to_data, path_to_train_data, path_to_test_data, train_ratio):\n",
    "    # get dirs\n",
    "    _, dirs, _ = next(os.walk(path_to_data))\n",
    "\n",
    "    #lets clean the directories\n",
    "    if os.path.exists(path_to_train_data):\n",
    "        shutil.rmtree(path_to_train_data)\n",
    "    if os.path.exists(path_to_test_data):\n",
    "        shutil.rmtree(path_to_test_data)\t\n",
    "    \n",
    "    for i in range(len(dirs)):\n",
    "        path_to_original = os.path.join(path_to_data, dirs[i])\n",
    "        files = get_files_from_folder(path_to_original)\n",
    "        elements = len(files)\n",
    "        if elements <= 0:\n",
    "            continue\n",
    "        train_data_number = (np.round(elements * train_ratio)).astype(np.int64)\n",
    "\n",
    "        train_index = np.random.choice(range(elements), size=train_data_number,replace=False)\n",
    "        test_index= np.delete(np.array(range(elements)), train_index)\n",
    "\n",
    "        #print(train_index)\n",
    "        #print(test_index)\n",
    "\n",
    "        train_dataset = files[train_index]\n",
    "        test_dataset = files[test_index]\n",
    "\n",
    "        #print(train_dataset)\n",
    "        #print(test_dataset)\n",
    "\n",
    "        path_to_save_training = os.path.join(path_to_train_data, dirs[i])\n",
    "        path_to_save_test = os.path.join(path_to_test_data, dirs[i])\n",
    "\n",
    "        #eventually creates dir\n",
    "        if not os.path.exists(path_to_save_training):\n",
    "            os.makedirs(path_to_save_training)\n",
    "        if not os.path.exists(path_to_save_test):\n",
    "            os.makedirs(path_to_save_test)\n",
    "\n",
    "        # moves training data\n",
    "        for j in range(len(train_dataset)):\n",
    "            dst = os.path.join(path_to_save_training, train_dataset[j])\n",
    "            src = os.path.join(path_to_original, train_dataset[j])\n",
    "            shutil.copy(src, dst)\n",
    "\n",
    "        # moves test data\n",
    "        for j in range(len(test_dataset)):\n",
    "            dst = os.path.join(path_to_save_test, test_dataset[j])\n",
    "            src = os.path.join(path_to_original, test_dataset[j])\n",
    "            shutil.copy(src, dst)            "
   ]
  },
  {
   "cell_type": "code",
   "execution_count": 6,
   "metadata": {},
   "outputs": [],
   "source": [
    "#let's split pictures in train and test subsets.\n",
    "split_dataset(\".\\\\tmp\\\\original_pictures\", \".\\\\tmp\\\\train_set\", \".\\\\tmp\\\\test_set\", 0.75)"
   ]
  },
  {
   "cell_type": "code",
   "execution_count": null,
   "metadata": {},
   "outputs": [],
   "source": [
    "#now let's add support for data augmentation\n"
   ]
  }
 ],
 "metadata": {
  "interpreter": {
   "hash": "ad2bdc8ecc057115af97d19610ffacc2b4e99fae6737bb82f5d7fb13d2f2c186"
  },
  "kernelspec": {
   "display_name": "Python 3.8.8 ('base')",
   "language": "python",
   "name": "python3"
  },
  "language_info": {
   "codemirror_mode": {
    "name": "ipython",
    "version": 3
   },
   "file_extension": ".py",
   "mimetype": "text/x-python",
   "name": "python",
   "nbconvert_exporter": "python",
   "pygments_lexer": "ipython3",
   "version": "3.8.8"
  },
  "orig_nbformat": 4
 },
 "nbformat": 4,
 "nbformat_minor": 2
}
