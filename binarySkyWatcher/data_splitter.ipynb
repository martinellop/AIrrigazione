{
 "cells": [
  {
   "cell_type": "code",
   "execution_count": 1,
   "metadata": {},
   "outputs": [],
   "source": [
    "\n",
    "import shutil\n",
    "import os\n",
    "import numpy as np\n",
    "import cv2"
   ]
  },
  {
   "cell_type": "code",
   "execution_count": 2,
   "metadata": {},
   "outputs": [],
   "source": [
    "test_image_w = 416\n",
    "def get_files_from_folder(path):\n",
    "\n",
    "    files = os.listdir(path)\n",
    "    return np.asarray(files)\n",
    "\n",
    "\n",
    "def center_crop(image,out_height,out_width):\n",
    "    input_height, input_width = image.shape[:2]\n",
    "    offset_height = (input_height - out_height) // 2\n",
    "    offset_width = (input_width - out_width) // 2\n",
    "    image = image[offset_height:offset_height+out_height, offset_width:offset_width+out_width,:]\n",
    "    return image\n",
    "\n",
    "def split_dataset(path_to_data, path_to_train_data, path_to_test_data, train_ratio):\n",
    "    # get dirs\n",
    "    _, dirs, _ = next(os.walk(path_to_data))\n",
    "\n",
    "    #lets clean the directories\n",
    "    if os.path.exists(path_to_train_data):\n",
    "        shutil.rmtree(path_to_train_data)\n",
    "    if os.path.exists(path_to_test_data):\n",
    "        shutil.rmtree(path_to_test_data)\t\n",
    "    \n",
    "    for i in range(len(dirs)):\n",
    "        path_to_original = os.path.join(path_to_data, dirs[i])\n",
    "        files = get_files_from_folder(path_to_original)\n",
    "        elements = len(files)\n",
    "        if elements <= 0:\n",
    "            continue\n",
    "        train_data_number = (np.round(elements * train_ratio)).astype(np.int64)\n",
    "\n",
    "        train_index = np.random.choice(range(elements), size=train_data_number,replace=False)\n",
    "        test_index= np.delete(np.array(range(elements)), train_index)\n",
    "\n",
    "        train_dataset = files[train_index]\n",
    "        test_dataset = files[test_index]\n",
    "\n",
    "        path_to_save_training = os.path.join(path_to_train_data, dirs[i])\n",
    "\n",
    "        #Since we are grouping classes 1-2-3 and 4-5, here let's split the test dataset in these two subsets.\n",
    "        if(int(dirs[i]) <=3):\n",
    "            path_to_save_test = os.path.join(path_to_test_data, \"0\")\n",
    "        else:\n",
    "            path_to_save_test = os.path.join(path_to_test_data, \"1\")\n",
    "\n",
    "        #eventually creates dir\n",
    "        if not os.path.exists(path_to_save_training):\n",
    "            os.makedirs(path_to_save_training)\n",
    "        if not os.path.exists(path_to_save_test):\n",
    "            os.makedirs(path_to_save_test)\n",
    "\n",
    "        # copy training data\n",
    "        for j in range(len(train_dataset)):\n",
    "            dst = os.path.join(path_to_save_training, train_dataset[j])\n",
    "            src = os.path.join(path_to_original, train_dataset[j])\n",
    "            shutil.copy(src, dst)\n",
    "\n",
    "        # copy test data\n",
    "        for j in range(len(test_dataset)):\n",
    "            src = os.path.join(path_to_original, test_dataset[j])\n",
    "            img = cv2.imread(src)\n",
    "            img = center_crop(img, test_image_w, test_image_w)\n",
    "\n",
    "            destination = os.path.join(path_to_save_test, f\"{dirs[i]}_{j}.jpg\")\n",
    "\n",
    "            cv2.imwrite(destination, img)\n",
    "\n"
   ]
  },
  {
   "cell_type": "code",
   "execution_count": 3,
   "metadata": {},
   "outputs": [],
   "source": [
    "all_pictures_folder = os.path.join(\".\",\"original_pictures\")\n",
    "train_folder_original = os.path.join(\".\",\"tmp\", \"train_set\")\n",
    "test_folder_original = os.path.join(\".\",\"dataset\", \"test\")\n",
    "\n",
    "#let's split pictures in train and test subsets.\n",
    "#this will shuffle/reshuffle pics, dividing them in train and test subsets.\n",
    "split_dataset(all_pictures_folder, train_folder_original, test_folder_original, 0.8)"
   ]
  }
 ],
 "metadata": {
  "interpreter": {
   "hash": "ad2bdc8ecc057115af97d19610ffacc2b4e99fae6737bb82f5d7fb13d2f2c186"
  },
  "kernelspec": {
   "display_name": "Python 3.8.8 ('base')",
   "language": "python",
   "name": "python3"
  },
  "language_info": {
   "codemirror_mode": {
    "name": "ipython",
    "version": 3
   },
   "file_extension": ".py",
   "mimetype": "text/x-python",
   "name": "python",
   "nbconvert_exporter": "python",
   "pygments_lexer": "ipython3",
   "version": "3.8.8"
  },
  "orig_nbformat": 4
 },
 "nbformat": 4,
 "nbformat_minor": 2
}
