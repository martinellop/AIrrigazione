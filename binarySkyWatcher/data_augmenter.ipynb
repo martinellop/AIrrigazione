{
 "cells": [
  {
   "cell_type": "code",
   "execution_count": 1,
   "metadata": {},
   "outputs": [],
   "source": [
    "import albumentations as A\n",
    "import cv2\n",
    "import numpy as np\n",
    "import shutil\n",
    "import math\n",
    "import os\n",
    "from matplotlib import pyplot as plt\n",
    "import random\n",
    "from albumentations.pytorch import ToTensorV2\n",
    "import random\n",
    "import time\n",
    "import datetime\n"
   ]
  },
  {
   "cell_type": "code",
   "execution_count": 2,
   "metadata": {},
   "outputs": [],
   "source": [
    "train_folder_original = os.path.join(\".\",\"tmp\", \"train_set\")\n",
    "final_image_w = 175\n",
    "\n",
    "\n",
    "def get_files_from_folder(path):\n",
    "\n",
    "    files = os.listdir(path)\n",
    "    return np.asarray(files)\n",
    "\n",
    "def get_pictures_of_class(targetClass):\n",
    "    path_to_original = os.path.join(train_folder_original, targetClass)\n",
    "    classPath = path_to_original\n",
    "    return classPath, get_files_from_folder(path_to_original)\n",
    "\n",
    "\n",
    "def get_random_square_subpicture(original_image, final_width:int):\n",
    "    input_h, input_w = original_image.shape[:2]\n",
    "\n",
    "    normalized_min_width = 1\n",
    "    minimum_width = min(input_h*normalized_min_width, input_w*normalized_min_width)\n",
    "    minimum_width = max(math.ceil(minimum_width), final_width)\n",
    "    random.seed(time.time())\n",
    "\n",
    "    new_image_w = random.randint(minimum_width,input_w)\n",
    "    new_image_h = random.randint(minimum_width,input_h)\n",
    "    square_width = min(new_image_h,new_image_w)\n",
    "    new_image_starting_w = random.randint(0,input_w - square_width)\n",
    "    new_image_starting_h = random.randint(0,input_h - square_width)\n",
    "    image = original_image[new_image_starting_h:new_image_starting_h+square_width, new_image_starting_w:new_image_starting_w+square_width,:]\n",
    "    \n",
    "    new_dim = (final_width, final_width)\n",
    "    # resize image\n",
    "    resized = cv2.resize(image, new_dim, interpolation = cv2.INTER_AREA)\n",
    "    return resized\n",
    "\n",
    "def augument_pictures(class_to_augment, requested_images:int, targetPath):\n",
    "    classPath, pictures = get_pictures_of_class(class_to_augment)\n",
    "    current_number = len(pictures)\n",
    "    diff = current_number - requested_images\n",
    "    \n",
    "    if diff > 0:\n",
    "        image_indexes = np.random.choice(range(current_number), size=requested_images,replace=False)\n",
    "\n",
    "    if(diff < 0):\n",
    "        #so if there are less images then how many we want\n",
    "        #we have to add new ones.\n",
    "        print(f\"adding {-diff} images..\")\n",
    "        initial_images = np.array(range(current_number),dtype=int)\n",
    "        to_add_indexes = np.random.choice(range(current_number), size=-diff,replace=True)\n",
    "        image_indexes = np.concatenate((initial_images,to_add_indexes), axis=0)\n",
    "\n",
    "    transform = A.Compose([\n",
    "        A.HorizontalFlip(p=0.5),\n",
    "        A.VerticalFlip(p=0.5),\n",
    "        A.RandomContrast(p=0.4),\n",
    "        A.Blur(blur_limit=3),\n",
    "        A.OpticalDistortion(),\n",
    "        A.GridDistortion(),\n",
    "        ])\n",
    "\n",
    "    print(f\"Modifying {len(image_indexes)} images..\")\n",
    "    saving_index = 0\n",
    "    for i in image_indexes:\n",
    "        imageName = os.path.join(classPath,pictures[i])\n",
    "        image = cv2.imread(imageName)\n",
    "        image = cv2.cvtColor(image, cv2.COLOR_BGR2RGB)\n",
    "        image = get_random_square_subpicture(image,final_image_w)\n",
    "\n",
    "        image = transform(image=image)[\"image\"]\n",
    "        image = cv2.cvtColor(image, cv2.COLOR_RGB2BGR)\n",
    "        destination_path =os.path.join(targetPath, f\"{class_to_augment}_{saving_index}.jpg\")\n",
    "        cv2.imwrite(destination_path, image)\n",
    "        saving_index += 1"
   ]
  },
  {
   "cell_type": "code",
   "execution_count": 3,
   "metadata": {},
   "outputs": [
    {
     "name": "stdout",
     "output_type": "stream",
     "text": [
      "Working on class: 1\n",
      "Modifying 2000 images..\n"
     ]
    },
    {
     "name": "stderr",
     "output_type": "stream",
     "text": [
      "c:\\ProgramData\\Anaconda3\\lib\\site-packages\\albumentations\\augmentations\\transforms.py:1826: FutureWarning: This class has been deprecated. Please use RandomBrightnessContrast\n",
      "  warnings.warn(\n"
     ]
    },
    {
     "name": "stdout",
     "output_type": "stream",
     "text": [
      "Working on class: 2\n",
      "adding 941 images..\n",
      "Modifying 2000 images..\n",
      "Working on class: 3\n",
      "adding 1444 images..\n",
      "Modifying 2000 images..\n",
      "Working on class: 4\n",
      "adding 1997 images..\n",
      "Modifying 3000 images..\n",
      "Working on class: 5\n",
      "adding 2449 images..\n",
      "Modifying 3000 images..\n",
      "Total time: 0:19:41.446291\n"
     ]
    }
   ],
   "source": [
    "train_folder_final = os.path.join(\".\",\"dataset\", \"train\")\n",
    "\n",
    "if os.path.exists(train_folder_final):\n",
    "        shutil.rmtree(train_folder_final)\t\n",
    "os.makedirs(train_folder_final)\n",
    "\n",
    "not_rain_destination_path = os.path.join(train_folder_final,\"0\")\n",
    "rain_destination_path = os.path.join(train_folder_final,\"1\")\n",
    "os.makedirs(not_rain_destination_path)\n",
    "os.makedirs(rain_destination_path)\n",
    "\n",
    "\n",
    "startTime = datetime.datetime.now()\n",
    "_, classes, _ = next(os.walk(train_folder_original))\n",
    "for i in range(len(classes)):\n",
    "    print(f\"Working on class: {classes[i]}\")\n",
    "    classPath, pictures = get_pictures_of_class(classes[i])\n",
    "    \n",
    "    #since we are going to merge classes 1+2+3 and 4+5, let's create an equal number of examples\n",
    "    images_for_not_rain_subclass = 2000\n",
    "    images_for_rain_subclass = 3000\n",
    "    #so in total there are going to be 3000 images for each subset\n",
    "\n",
    "    if(int(classes[i]) <= 3):\n",
    "        image_number = images_for_not_rain_subclass\n",
    "        destination = not_rain_destination_path\n",
    "    else:\n",
    "        image_number = images_for_rain_subclass\n",
    "        destination = rain_destination_path\n",
    "\n",
    "    augument_pictures(classes[i],image_number,destination)\n",
    "print(f\"Total time: {datetime.datetime.now() - startTime}\")"
   ]
  }
 ],
 "metadata": {
  "interpreter": {
   "hash": "ad2bdc8ecc057115af97d19610ffacc2b4e99fae6737bb82f5d7fb13d2f2c186"
  },
  "kernelspec": {
   "display_name": "Python 3.8.8 ('base')",
   "language": "python",
   "name": "python3"
  },
  "language_info": {
   "codemirror_mode": {
    "name": "ipython",
    "version": 3
   },
   "file_extension": ".py",
   "mimetype": "text/x-python",
   "name": "python",
   "nbconvert_exporter": "python",
   "pygments_lexer": "ipython3",
   "version": "3.8.8"
  },
  "orig_nbformat": 4
 },
 "nbformat": 4,
 "nbformat_minor": 2
}
